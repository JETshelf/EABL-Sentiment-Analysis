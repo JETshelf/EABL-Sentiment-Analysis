{
 "cells": [
  {
   "cell_type": "code",
   "execution_count": 1,
   "id": "77fd68f6",
   "metadata": {},
   "outputs": [],
   "source": [
    "import pandas as pd"
   ]
  },
  {
   "cell_type": "code",
   "execution_count": 4,
   "id": "873bcf13",
   "metadata": {},
   "outputs": [],
   "source": [
    "df = pd.read_excel(\"/Users/jamesmaikara/Documents/Flatiron/phase5/organized_data.xlsx\", sheet_name='Sheet1', skiprows=1)\n"
   ]
  },
  {
   "cell_type": "code",
   "execution_count": 5,
   "id": "ccd9f0ae",
   "metadata": {},
   "outputs": [
    {
     "data": {
      "text/html": [
       "<div>\n",
       "<style scoped>\n",
       "    .dataframe tbody tr th:only-of-type {\n",
       "        vertical-align: middle;\n",
       "    }\n",
       "\n",
       "    .dataframe tbody tr th {\n",
       "        vertical-align: top;\n",
       "    }\n",
       "\n",
       "    .dataframe thead th {\n",
       "        text-align: right;\n",
       "    }\n",
       "</style>\n",
       "<table border=\"1\" class=\"dataframe\">\n",
       "  <thead>\n",
       "    <tr style=\"text-align: right;\">\n",
       "      <th></th>\n",
       "      <th>https://twitter.com/kibor_kifra/status/1700925598254629100#m</th>\n",
       "      <th>This just in, the month-long celebration of Kenyan culture, #TuskerOktobafest, is back – and this time it’s going to be bigger and better. Mark your calendars, tell a friend and get ready for an East-African experience like no other. @TuskerLager #OktobafestEastAfrica</th>\n",
       "      <th>Sep 10, 2023 · 5:33 PM UTC</th>\n",
       "      <th>{'comments': 0, 'retweets': 11, 'quotes': 0, 'likes': 14}</th>\n",
       "      <th>Positive</th>\n",
       "    </tr>\n",
       "  </thead>\n",
       "  <tbody>\n",
       "    <tr>\n",
       "      <th>0</th>\n",
       "      <td>https://twitter.com/booma_creatives/status/173...</td>\n",
       "      <td>Come and experience South Sudanese Culture, Fo...</td>\n",
       "      <td>Dec 15, 2023 · 9:45 AM UTC</td>\n",
       "      <td>{'comments': 0, 'retweets': 0, 'quotes': 0, 'l...</td>\n",
       "      <td>Neutral</td>\n",
       "    </tr>\n",
       "    <tr>\n",
       "      <th>1</th>\n",
       "      <td>https://twitter.com/MelV_DjMelcj/status/172503...</td>\n",
       "      <td>My fave TBT jam is \"Why Lie\".  s/o to the homi...</td>\n",
       "      <td>Nov 16, 2023 · 6:00 AM UTC</td>\n",
       "      <td>{'comments': 0, 'retweets': 1, 'quotes': 0, 'l...</td>\n",
       "      <td>Positive</td>\n",
       "    </tr>\n",
       "    <tr>\n",
       "      <th>2</th>\n",
       "      <td>https://twitter.com/GuerMomo/status/1723819405...</td>\n",
       "      <td>Share the excitement for #TuskerOktobafest! Wh...</td>\n",
       "      <td>Nov 12, 2023 · 9:45 PM UTC</td>\n",
       "      <td>{'comments': 0, 'retweets': 0, 'quotes': 0, 'l...</td>\n",
       "      <td>Positive</td>\n",
       "    </tr>\n",
       "    <tr>\n",
       "      <th>3</th>\n",
       "      <td>https://twitter.com/GuerMomo/status/1723818981...</td>\n",
       "      <td>🎉 Tell us about your festival fashion at #Tusk...</td>\n",
       "      <td>Nov 12, 2023 · 9:44 PM UTC</td>\n",
       "      <td>{'comments': 0, 'retweets': 0, 'quotes': 0, 'l...</td>\n",
       "      <td>Positive</td>\n",
       "    </tr>\n",
       "    <tr>\n",
       "      <th>4</th>\n",
       "      <td>https://twitter.com/GuerMomo/status/1723818676...</td>\n",
       "      <td>4- Juba, are you ready to make memories at #Tu...</td>\n",
       "      <td>Nov 12, 2023 · 9:42 PM UTC</td>\n",
       "      <td>{'comments': 0, 'retweets': 0, 'quotes': 0, 'l...</td>\n",
       "      <td>Positive</td>\n",
       "    </tr>\n",
       "  </tbody>\n",
       "</table>\n",
       "</div>"
      ],
      "text/plain": [
       "  https://twitter.com/kibor_kifra/status/1700925598254629100#m  \\\n",
       "0  https://twitter.com/booma_creatives/status/173...             \n",
       "1  https://twitter.com/MelV_DjMelcj/status/172503...             \n",
       "2  https://twitter.com/GuerMomo/status/1723819405...             \n",
       "3  https://twitter.com/GuerMomo/status/1723818981...             \n",
       "4  https://twitter.com/GuerMomo/status/1723818676...             \n",
       "\n",
       "  This just in, the month-long celebration of Kenyan culture, #TuskerOktobafest, is back – and this time it’s going to be bigger and better. Mark your calendars, tell a friend and get ready for an East-African experience like no other. @TuskerLager #OktobafestEastAfrica  \\\n",
       "0  Come and experience South Sudanese Culture, Fo...                                                                                                                                                                                                                             \n",
       "1  My fave TBT jam is \"Why Lie\".  s/o to the homi...                                                                                                                                                                                                                             \n",
       "2  Share the excitement for #TuskerOktobafest! Wh...                                                                                                                                                                                                                             \n",
       "3  🎉 Tell us about your festival fashion at #Tusk...                                                                                                                                                                                                                             \n",
       "4  4- Juba, are you ready to make memories at #Tu...                                                                                                                                                                                                                             \n",
       "\n",
       "   Sep 10, 2023 · 5:33 PM UTC  \\\n",
       "0  Dec 15, 2023 · 9:45 AM UTC   \n",
       "1  Nov 16, 2023 · 6:00 AM UTC   \n",
       "2  Nov 12, 2023 · 9:45 PM UTC   \n",
       "3  Nov 12, 2023 · 9:44 PM UTC   \n",
       "4  Nov 12, 2023 · 9:42 PM UTC   \n",
       "\n",
       "  {'comments': 0, 'retweets': 11, 'quotes': 0, 'likes': 14}  Positive  \n",
       "0  {'comments': 0, 'retweets': 0, 'quotes': 0, 'l...          Neutral  \n",
       "1  {'comments': 0, 'retweets': 1, 'quotes': 0, 'l...         Positive  \n",
       "2  {'comments': 0, 'retweets': 0, 'quotes': 0, 'l...         Positive  \n",
       "3  {'comments': 0, 'retweets': 0, 'quotes': 0, 'l...         Positive  \n",
       "4  {'comments': 0, 'retweets': 0, 'quotes': 0, 'l...         Positive  "
      ]
     },
     "execution_count": 5,
     "metadata": {},
     "output_type": "execute_result"
    }
   ],
   "source": [
    "df.head()"
   ]
  },
  {
   "cell_type": "code",
   "execution_count": 6,
   "id": "fb4d6170",
   "metadata": {},
   "outputs": [
    {
     "data": {
      "text/plain": [
       "https://twitter.com/kibor_kifra/status/1700925598254629100#m                                                                                                                                                                                                                    0\n",
       "This just in, the month-long celebration of Kenyan culture, #TuskerOktobafest, is back – and this time it’s going to be bigger and better. Mark your calendars, tell a friend and get ready for an East-African experience like no other. @TuskerLager #OktobafestEastAfrica    0\n",
       "Sep 10, 2023 · 5:33 PM UTC                                                                                                                                                                                                                                                      0\n",
       "{'comments': 0, 'retweets': 11, 'quotes': 0, 'likes': 14}                                                                                                                                                                                                                       0\n",
       "Positive                                                                                                                                                                                                                                                                        0\n",
       "dtype: int64"
      ]
     },
     "execution_count": 6,
     "metadata": {},
     "output_type": "execute_result"
    }
   ],
   "source": [
    "df.isnull().sum()"
   ]
  },
  {
   "cell_type": "code",
   "execution_count": 10,
   "id": "ca3dfb42",
   "metadata": {},
   "outputs": [
    {
     "name": "stdout",
     "output_type": "stream",
     "text": [
      "Count of Rows in Column 5 with 'Positive': 7889\n"
     ]
    }
   ],
   "source": [
    "column_index = 4  # Replace with the actual index of your column\n",
    "\n",
    "# Count the rows where the 6th column has the value 'Positive'\n",
    "positive_count = df[df.iloc[:, column_index] == 'Positive'].shape[0]\n",
    "\n",
    "print(f\"Count of Rows in Column {column_index + 1} with 'Positive': {positive_count}\")"
   ]
  },
  {
   "cell_type": "code",
   "execution_count": 12,
   "id": "8863ea08",
   "metadata": {},
   "outputs": [
    {
     "name": "stdout",
     "output_type": "stream",
     "text": [
      "Count of Rows in Column 5 with 'Neutral': 1692\n"
     ]
    }
   ],
   "source": [
    "column_index = 4  # Replace with the actual index of your column\n",
    "\n",
    "# Count the rows where the 6th column has the value 'Positive'\n",
    "positive_count = df[df.iloc[:, column_index] == 'Neutral'].shape[0]\n",
    "\n",
    "print(f\"Count of Rows in Column {column_index + 1} with 'Neutral': {positive_count}\")"
   ]
  },
  {
   "cell_type": "code",
   "execution_count": 13,
   "id": "55f905c7",
   "metadata": {},
   "outputs": [
    {
     "name": "stdout",
     "output_type": "stream",
     "text": [
      "Count of Rows in Column 5 with 'Negative': 418\n"
     ]
    }
   ],
   "source": [
    "column_index = 4  # Replace with the actual index of your column\n",
    "\n",
    "# Count the rows where the 6th column has the value 'Positive'\n",
    "positive_count = df[df.iloc[:, column_index] == 'Negative'].shape[0]\n",
    "\n",
    "print(f\"Count of Rows in Column {column_index + 1} with 'Negative': {positive_count}\")"
   ]
  },
  {
   "cell_type": "code",
   "execution_count": null,
   "id": "480157e0",
   "metadata": {},
   "outputs": [],
   "source": [
    "## No major cleaning done since there were no null values. Found the count of the Positive, Negative and Neutral values for further processsing during modelling stage."
   ]
  }
 ],
 "metadata": {
  "kernelspec": {
   "display_name": "Python 3 (ipykernel)",
   "language": "python",
   "name": "python3"
  },
  "language_info": {
   "codemirror_mode": {
    "name": "ipython",
    "version": 3
   },
   "file_extension": ".py",
   "mimetype": "text/x-python",
   "name": "python",
   "nbconvert_exporter": "python",
   "pygments_lexer": "ipython3",
   "version": "3.11.0"
  }
 },
 "nbformat": 4,
 "nbformat_minor": 5
}
